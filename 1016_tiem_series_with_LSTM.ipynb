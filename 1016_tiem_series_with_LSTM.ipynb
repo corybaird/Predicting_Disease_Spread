{
 "cells": [
  {
   "cell_type": "markdown",
   "metadata": {},
   "source": [
    "# Practice univariate LSTM "
   ]
  },
  {
   "cell_type": "code",
   "execution_count": 1,
   "metadata": {},
   "outputs": [
    {
     "name": "stderr",
     "output_type": "stream",
     "text": [
      "/Users/asumisaito/anaconda3/lib/python3.6/importlib/_bootstrap.py:219: RuntimeWarning: numpy.dtype size changed, may indicate binary incompatibility. Expected 96, got 88\n",
      "  return f(*args, **kwds)\n",
      "/Users/asumisaito/anaconda3/lib/python3.6/importlib/_bootstrap.py:219: RuntimeWarning: numpy.dtype size changed, may indicate binary incompatibility. Expected 96, got 88\n",
      "  return f(*args, **kwds)\n",
      "/Users/asumisaito/anaconda3/lib/python3.6/importlib/_bootstrap.py:219: RuntimeWarning: numpy.dtype size changed, may indicate binary incompatibility. Expected 96, got 88\n",
      "  return f(*args, **kwds)\n"
     ]
    }
   ],
   "source": [
    "import pandas as pd\n",
    "import numpy as np\n",
    "from datetime import datetime, timedelta\n",
    "import datetime\n",
    "import matplotlib.pyplot as plt\n",
    "from tqdm import tqdm\n",
    "import matplotlib.dates as mdates\n",
    "import seaborn as sns"
   ]
  },
  {
   "cell_type": "code",
   "execution_count": 20,
   "metadata": {},
   "outputs": [
    {
     "name": "stderr",
     "output_type": "stream",
     "text": [
      "/Users/asumisaito/anaconda3/lib/python3.6/importlib/_bootstrap.py:219: RuntimeWarning: numpy.dtype size changed, may indicate binary incompatibility. Expected 96, got 88\n",
      "  return f(*args, **kwds)\n",
      "/Users/asumisaito/anaconda3/lib/python3.6/site-packages/h5py/__init__.py:34: FutureWarning: Conversion of the second argument of issubdtype from `float` to `np.floating` is deprecated. In future, it will be treated as `np.float64 == np.dtype(float).type`.\n",
      "  from ._conv import register_converters as _register_converters\n",
      "Using Theano backend.\n"
     ]
    }
   ],
   "source": [
    "from keras.layers.core import Dense, Activation, Dropout\n",
    "from keras.layers.recurrent import LSTM\n",
    "from keras.models import Sequential\n",
    "import time\n",
    "from sklearn.metrics import mean_squared_error\n",
    "from matplotlib import pyplot as plt\n",
    "from sklearn.preprocessing import MinMaxScaler\n",
    "from sklearn.preprocessing import StandardScaler"
   ]
  },
  {
   "cell_type": "code",
   "execution_count": 5,
   "metadata": {},
   "outputs": [],
   "source": [
    "df = pd.read_csv('/Users/asumisaito/Downloads/dengue_features_train.csv')\n",
    "df2 = pd.read_csv('/Users/asumisaito/Downloads/dengue_labels_train.csv')\n",
    "data =  pd.merge(df, df2, on = ['city', 'year', 'weekofyear'])"
   ]
  },
  {
   "cell_type": "code",
   "execution_count": 6,
   "metadata": {},
   "outputs": [
    {
     "data": {
      "text/html": [
       "<div>\n",
       "<style>\n",
       "    .dataframe thead tr:only-child th {\n",
       "        text-align: right;\n",
       "    }\n",
       "\n",
       "    .dataframe thead th {\n",
       "        text-align: left;\n",
       "    }\n",
       "\n",
       "    .dataframe tbody tr th {\n",
       "        vertical-align: top;\n",
       "    }\n",
       "</style>\n",
       "<table border=\"1\" class=\"dataframe\">\n",
       "  <thead>\n",
       "    <tr style=\"text-align: right;\">\n",
       "      <th></th>\n",
       "      <th>city</th>\n",
       "      <th>year</th>\n",
       "      <th>weekofyear</th>\n",
       "      <th>week_start_date</th>\n",
       "      <th>ndvi_ne</th>\n",
       "      <th>ndvi_nw</th>\n",
       "      <th>ndvi_se</th>\n",
       "      <th>ndvi_sw</th>\n",
       "      <th>precipitation_amt_mm</th>\n",
       "      <th>reanalysis_air_temp_k</th>\n",
       "      <th>...</th>\n",
       "      <th>reanalysis_relative_humidity_percent</th>\n",
       "      <th>reanalysis_sat_precip_amt_mm</th>\n",
       "      <th>reanalysis_specific_humidity_g_per_kg</th>\n",
       "      <th>reanalysis_tdtr_k</th>\n",
       "      <th>station_avg_temp_c</th>\n",
       "      <th>station_diur_temp_rng_c</th>\n",
       "      <th>station_max_temp_c</th>\n",
       "      <th>station_min_temp_c</th>\n",
       "      <th>station_precip_mm</th>\n",
       "      <th>total_cases</th>\n",
       "    </tr>\n",
       "  </thead>\n",
       "  <tbody>\n",
       "    <tr>\n",
       "      <th>0</th>\n",
       "      <td>sj</td>\n",
       "      <td>1990</td>\n",
       "      <td>18</td>\n",
       "      <td>1990-04-30</td>\n",
       "      <td>0.12260</td>\n",
       "      <td>0.103725</td>\n",
       "      <td>0.198483</td>\n",
       "      <td>0.177617</td>\n",
       "      <td>12.42</td>\n",
       "      <td>297.572857</td>\n",
       "      <td>...</td>\n",
       "      <td>73.365714</td>\n",
       "      <td>12.42</td>\n",
       "      <td>14.012857</td>\n",
       "      <td>2.628571</td>\n",
       "      <td>25.442857</td>\n",
       "      <td>6.900000</td>\n",
       "      <td>29.4</td>\n",
       "      <td>20.0</td>\n",
       "      <td>16.0</td>\n",
       "      <td>4</td>\n",
       "    </tr>\n",
       "    <tr>\n",
       "      <th>1</th>\n",
       "      <td>sj</td>\n",
       "      <td>1990</td>\n",
       "      <td>19</td>\n",
       "      <td>1990-05-07</td>\n",
       "      <td>0.16990</td>\n",
       "      <td>0.142175</td>\n",
       "      <td>0.162357</td>\n",
       "      <td>0.155486</td>\n",
       "      <td>22.82</td>\n",
       "      <td>298.211429</td>\n",
       "      <td>...</td>\n",
       "      <td>77.368571</td>\n",
       "      <td>22.82</td>\n",
       "      <td>15.372857</td>\n",
       "      <td>2.371429</td>\n",
       "      <td>26.714286</td>\n",
       "      <td>6.371429</td>\n",
       "      <td>31.7</td>\n",
       "      <td>22.2</td>\n",
       "      <td>8.6</td>\n",
       "      <td>5</td>\n",
       "    </tr>\n",
       "    <tr>\n",
       "      <th>2</th>\n",
       "      <td>sj</td>\n",
       "      <td>1990</td>\n",
       "      <td>20</td>\n",
       "      <td>1990-05-14</td>\n",
       "      <td>0.03225</td>\n",
       "      <td>0.172967</td>\n",
       "      <td>0.157200</td>\n",
       "      <td>0.170843</td>\n",
       "      <td>34.54</td>\n",
       "      <td>298.781429</td>\n",
       "      <td>...</td>\n",
       "      <td>82.052857</td>\n",
       "      <td>34.54</td>\n",
       "      <td>16.848571</td>\n",
       "      <td>2.300000</td>\n",
       "      <td>26.714286</td>\n",
       "      <td>6.485714</td>\n",
       "      <td>32.2</td>\n",
       "      <td>22.8</td>\n",
       "      <td>41.4</td>\n",
       "      <td>4</td>\n",
       "    </tr>\n",
       "  </tbody>\n",
       "</table>\n",
       "<p>3 rows × 25 columns</p>\n",
       "</div>"
      ],
      "text/plain": [
       "  city  year  weekofyear week_start_date  ndvi_ne   ndvi_nw   ndvi_se  \\\n",
       "0   sj  1990          18      1990-04-30  0.12260  0.103725  0.198483   \n",
       "1   sj  1990          19      1990-05-07  0.16990  0.142175  0.162357   \n",
       "2   sj  1990          20      1990-05-14  0.03225  0.172967  0.157200   \n",
       "\n",
       "    ndvi_sw  precipitation_amt_mm  reanalysis_air_temp_k     ...       \\\n",
       "0  0.177617                 12.42             297.572857     ...        \n",
       "1  0.155486                 22.82             298.211429     ...        \n",
       "2  0.170843                 34.54             298.781429     ...        \n",
       "\n",
       "   reanalysis_relative_humidity_percent  reanalysis_sat_precip_amt_mm  \\\n",
       "0                             73.365714                         12.42   \n",
       "1                             77.368571                         22.82   \n",
       "2                             82.052857                         34.54   \n",
       "\n",
       "   reanalysis_specific_humidity_g_per_kg  reanalysis_tdtr_k  \\\n",
       "0                              14.012857           2.628571   \n",
       "1                              15.372857           2.371429   \n",
       "2                              16.848571           2.300000   \n",
       "\n",
       "   station_avg_temp_c  station_diur_temp_rng_c  station_max_temp_c  \\\n",
       "0           25.442857                 6.900000                29.4   \n",
       "1           26.714286                 6.371429                31.7   \n",
       "2           26.714286                 6.485714                32.2   \n",
       "\n",
       "   station_min_temp_c  station_precip_mm  total_cases  \n",
       "0                20.0               16.0            4  \n",
       "1                22.2                8.6            5  \n",
       "2                22.8               41.4            4  \n",
       "\n",
       "[3 rows x 25 columns]"
      ]
     },
     "execution_count": 6,
     "metadata": {},
     "output_type": "execute_result"
    }
   ],
   "source": [
    "data.head(3)"
   ]
  },
  {
   "cell_type": "code",
   "execution_count": 8,
   "metadata": {},
   "outputs": [],
   "source": [
    "import datetime\n",
    "data['date'] = data['week_start_date'].astype(str).apply(lambda x: pd.to_datetime(x, format='%Y-%m-%d'))"
   ]
  },
  {
   "cell_type": "code",
   "execution_count": 9,
   "metadata": {},
   "outputs": [
    {
     "data": {
      "text/plain": [
       "['city',\n",
       " 'year',\n",
       " 'weekofyear',\n",
       " 'week_start_date',\n",
       " 'ndvi_ne',\n",
       " 'ndvi_nw',\n",
       " 'ndvi_se',\n",
       " 'ndvi_sw',\n",
       " 'precipitation_amt_mm',\n",
       " 'reanalysis_air_temp_k',\n",
       " 'reanalysis_avg_temp_k',\n",
       " 'reanalysis_dew_point_temp_k',\n",
       " 'reanalysis_max_air_temp_k',\n",
       " 'reanalysis_min_air_temp_k',\n",
       " 'reanalysis_precip_amt_kg_per_m2',\n",
       " 'reanalysis_relative_humidity_percent',\n",
       " 'reanalysis_sat_precip_amt_mm',\n",
       " 'reanalysis_specific_humidity_g_per_kg',\n",
       " 'reanalysis_tdtr_k',\n",
       " 'station_avg_temp_c',\n",
       " 'station_diur_temp_rng_c',\n",
       " 'station_max_temp_c',\n",
       " 'station_min_temp_c',\n",
       " 'station_precip_mm',\n",
       " 'total_cases',\n",
       " 'date']"
      ]
     },
     "execution_count": 9,
     "metadata": {},
     "output_type": "execute_result"
    }
   ],
   "source": [
    "list(data)"
   ]
  },
  {
   "cell_type": "markdown",
   "metadata": {},
   "source": [
    "# Data cleaning\n",
    "\n",
    "### Try with this data\n",
    "- city = 'sj'\n",
    "- train: first 13 years (1990-04-30 to 2003-04-30)\n",
    "- test: last 5 years (2003-05-01 to 2008-04-22)"
   ]
  },
  {
   "cell_type": "code",
   "execution_count": 13,
   "metadata": {},
   "outputs": [
    {
     "data": {
      "text/plain": [
       "count                     936\n",
       "unique                    936\n",
       "top       2000-05-13 00:00:00\n",
       "freq                        1\n",
       "first     1990-04-30 00:00:00\n",
       "last      2008-04-22 00:00:00\n",
       "Name: date, dtype: object"
      ]
     },
     "execution_count": 13,
     "metadata": {},
     "output_type": "execute_result"
    }
   ],
   "source": [
    "data[data.city=='sj'].date.describe()"
   ]
  },
  {
   "cell_type": "code",
   "execution_count": 41,
   "metadata": {},
   "outputs": [
    {
     "data": {
      "text/html": [
       "<div>\n",
       "<style>\n",
       "    .dataframe thead tr:only-child th {\n",
       "        text-align: right;\n",
       "    }\n",
       "\n",
       "    .dataframe thead th {\n",
       "        text-align: left;\n",
       "    }\n",
       "\n",
       "    .dataframe tbody tr th {\n",
       "        vertical-align: top;\n",
       "    }\n",
       "</style>\n",
       "<table border=\"1\" class=\"dataframe\">\n",
       "  <thead>\n",
       "    <tr style=\"text-align: right;\">\n",
       "      <th></th>\n",
       "      <th>total_cases</th>\n",
       "    </tr>\n",
       "    <tr>\n",
       "      <th>date</th>\n",
       "      <th></th>\n",
       "    </tr>\n",
       "  </thead>\n",
       "  <tbody>\n",
       "    <tr>\n",
       "      <th>1990-04-30</th>\n",
       "      <td>4</td>\n",
       "    </tr>\n",
       "    <tr>\n",
       "      <th>1990-05-07</th>\n",
       "      <td>5</td>\n",
       "    </tr>\n",
       "    <tr>\n",
       "      <th>1990-05-14</th>\n",
       "      <td>4</td>\n",
       "    </tr>\n",
       "  </tbody>\n",
       "</table>\n",
       "</div>"
      ],
      "text/plain": [
       "            total_cases\n",
       "date                   \n",
       "1990-04-30            4\n",
       "1990-05-07            5\n",
       "1990-05-14            4"
      ]
     },
     "execution_count": 41,
     "metadata": {},
     "output_type": "execute_result"
    }
   ],
   "source": [
    "data = data.sort_values(by=['date'])\n",
    "sj = data[data.city == 'sj'].loc[:,['total_cases']]\n",
    "sj.head(3)"
   ]
  },
  {
   "cell_type": "code",
   "execution_count": 95,
   "metadata": {},
   "outputs": [
    {
     "name": "stderr",
     "output_type": "stream",
     "text": [
      "/Users/asumisaito/anaconda3/lib/python3.6/site-packages/sklearn/utils/validation.py:475: DataConversionWarning: Data with input dtype int64 was converted to float64 by MinMaxScaler.\n",
      "  warnings.warn(msg, DataConversionWarning)\n"
     ]
    }
   ],
   "source": [
    "# normalize features - \n",
    "\n",
    "scaler = MinMaxScaler(feature_range=(-1, 1))\n",
    "scaled = scaler.fit_transform(sj.values)\n",
    "series = pd.DataFrame(scaled)\n"
   ]
  },
  {
   "cell_type": "code",
   "execution_count": 43,
   "metadata": {},
   "outputs": [
    {
     "data": {
      "image/png": "[encoded data removed]",
      "text/plain": [
       "<matplotlib.figure.Figure at 0x1102735c0>"
      ]
     },
     "metadata": {},
     "output_type": "display_data"
    }
   ],
   "source": [
    "plt.plot(series.values)\n",
    "plt.show()"
   ]
  },
  {
   "cell_type": "markdown",
   "metadata": {},
   "source": [
    "### let's start with using 1-49th weeks to predict 50th week\n",
    "- But this means I have 50 weeks lag values. Not practical"
   ]
  },
  {
   "cell_type": "code",
   "execution_count": 96,
   "metadata": {},
   "outputs": [],
   "source": [
    "# fix the moving window size to be 50\n",
    "\n",
    "window_size = 50\n",
    "\n",
    "series_s = series.copy()\n",
    "for i in range(window_size):\n",
    "    series = pd.concat([series, series_s.shift(-(i+1))], axis = 1)\n",
    "    \n",
    "series.dropna(axis=0, inplace=True)"
   ]
  },
  {
   "cell_type": "code",
   "execution_count": 82,
   "metadata": {},
   "outputs": [
    {
     "data": {
      "text/html": [
       "<div>\n",
       "<style>\n",
       "    .dataframe thead tr:only-child th {\n",
       "        text-align: right;\n",
       "    }\n",
       "\n",
       "    .dataframe thead th {\n",
       "        text-align: left;\n",
       "    }\n",
       "\n",
       "    .dataframe tbody tr th {\n",
       "        vertical-align: top;\n",
       "    }\n",
       "</style>\n",
       "<table border=\"1\" class=\"dataframe\">\n",
       "  <thead>\n",
       "    <tr style=\"text-align: right;\">\n",
       "      <th></th>\n",
       "      <th>0</th>\n",
       "      <th>0</th>\n",
       "      <th>0</th>\n",
       "      <th>0</th>\n",
       "      <th>0</th>\n",
       "      <th>0</th>\n",
       "      <th>0</th>\n",
       "      <th>0</th>\n",
       "      <th>0</th>\n",
       "      <th>0</th>\n",
       "      <th>...</th>\n",
       "      <th>0</th>\n",
       "      <th>0</th>\n",
       "      <th>0</th>\n",
       "      <th>0</th>\n",
       "      <th>0</th>\n",
       "      <th>0</th>\n",
       "      <th>0</th>\n",
       "      <th>0</th>\n",
       "      <th>0</th>\n",
       "      <th>0</th>\n",
       "    </tr>\n",
       "  </thead>\n",
       "  <tbody>\n",
       "    <tr>\n",
       "      <th>0</th>\n",
       "      <td>-0.982646</td>\n",
       "      <td>-0.978308</td>\n",
       "      <td>-0.982646</td>\n",
       "      <td>-0.986985</td>\n",
       "      <td>-0.973970</td>\n",
       "      <td>-0.991323</td>\n",
       "      <td>-0.982646</td>\n",
       "      <td>-0.978308</td>\n",
       "      <td>-0.956616</td>\n",
       "      <td>-0.973970</td>\n",
       "      <td>...</td>\n",
       "      <td>-0.917570</td>\n",
       "      <td>-0.891540</td>\n",
       "      <td>-0.921909</td>\n",
       "      <td>-0.908894</td>\n",
       "      <td>-0.926247</td>\n",
       "      <td>-0.926247</td>\n",
       "      <td>-0.930586</td>\n",
       "      <td>-0.930586</td>\n",
       "      <td>-0.934924</td>\n",
       "      <td>-0.900217</td>\n",
       "    </tr>\n",
       "    <tr>\n",
       "      <th>1</th>\n",
       "      <td>-0.978308</td>\n",
       "      <td>-0.982646</td>\n",
       "      <td>-0.986985</td>\n",
       "      <td>-0.973970</td>\n",
       "      <td>-0.991323</td>\n",
       "      <td>-0.982646</td>\n",
       "      <td>-0.978308</td>\n",
       "      <td>-0.956616</td>\n",
       "      <td>-0.973970</td>\n",
       "      <td>-0.965293</td>\n",
       "      <td>...</td>\n",
       "      <td>-0.891540</td>\n",
       "      <td>-0.921909</td>\n",
       "      <td>-0.908894</td>\n",
       "      <td>-0.926247</td>\n",
       "      <td>-0.926247</td>\n",
       "      <td>-0.930586</td>\n",
       "      <td>-0.930586</td>\n",
       "      <td>-0.934924</td>\n",
       "      <td>-0.900217</td>\n",
       "      <td>-0.930586</td>\n",
       "    </tr>\n",
       "    <tr>\n",
       "      <th>2</th>\n",
       "      <td>-0.982646</td>\n",
       "      <td>-0.986985</td>\n",
       "      <td>-0.973970</td>\n",
       "      <td>-0.991323</td>\n",
       "      <td>-0.982646</td>\n",
       "      <td>-0.978308</td>\n",
       "      <td>-0.956616</td>\n",
       "      <td>-0.973970</td>\n",
       "      <td>-0.965293</td>\n",
       "      <td>-0.991323</td>\n",
       "      <td>...</td>\n",
       "      <td>-0.921909</td>\n",
       "      <td>-0.908894</td>\n",
       "      <td>-0.926247</td>\n",
       "      <td>-0.926247</td>\n",
       "      <td>-0.930586</td>\n",
       "      <td>-0.930586</td>\n",
       "      <td>-0.934924</td>\n",
       "      <td>-0.900217</td>\n",
       "      <td>-0.930586</td>\n",
       "      <td>-0.926247</td>\n",
       "    </tr>\n",
       "    <tr>\n",
       "      <th>3</th>\n",
       "      <td>-0.986985</td>\n",
       "      <td>-0.973970</td>\n",
       "      <td>-0.991323</td>\n",
       "      <td>-0.982646</td>\n",
       "      <td>-0.978308</td>\n",
       "      <td>-0.956616</td>\n",
       "      <td>-0.973970</td>\n",
       "      <td>-0.965293</td>\n",
       "      <td>-0.991323</td>\n",
       "      <td>-0.973970</td>\n",
       "      <td>...</td>\n",
       "      <td>-0.908894</td>\n",
       "      <td>-0.926247</td>\n",
       "      <td>-0.926247</td>\n",
       "      <td>-0.930586</td>\n",
       "      <td>-0.930586</td>\n",
       "      <td>-0.934924</td>\n",
       "      <td>-0.900217</td>\n",
       "      <td>-0.930586</td>\n",
       "      <td>-0.926247</td>\n",
       "      <td>-0.947939</td>\n",
       "    </tr>\n",
       "    <tr>\n",
       "      <th>4</th>\n",
       "      <td>-0.973970</td>\n",
       "      <td>-0.991323</td>\n",
       "      <td>-0.982646</td>\n",
       "      <td>-0.978308</td>\n",
       "      <td>-0.956616</td>\n",
       "      <td>-0.973970</td>\n",
       "      <td>-0.965293</td>\n",
       "      <td>-0.991323</td>\n",
       "      <td>-0.973970</td>\n",
       "      <td>-0.926247</td>\n",
       "      <td>...</td>\n",
       "      <td>-0.926247</td>\n",
       "      <td>-0.926247</td>\n",
       "      <td>-0.930586</td>\n",
       "      <td>-0.930586</td>\n",
       "      <td>-0.934924</td>\n",
       "      <td>-0.900217</td>\n",
       "      <td>-0.930586</td>\n",
       "      <td>-0.926247</td>\n",
       "      <td>-0.947939</td>\n",
       "      <td>-0.926247</td>\n",
       "    </tr>\n",
       "  </tbody>\n",
       "</table>\n",
       "<p>5 rows × 51 columns</p>\n",
       "</div>"
      ],
      "text/plain": [
       "          0         0         0         0         0         0         0  \\\n",
       "0 -0.982646 -0.978308 -0.982646 -0.986985 -0.973970 -0.991323 -0.982646   \n",
       "1 -0.978308 -0.982646 -0.986985 -0.973970 -0.991323 -0.982646 -0.978308   \n",
       "2 -0.982646 -0.986985 -0.973970 -0.991323 -0.982646 -0.978308 -0.956616   \n",
       "3 -0.986985 -0.973970 -0.991323 -0.982646 -0.978308 -0.956616 -0.973970   \n",
       "4 -0.973970 -0.991323 -0.982646 -0.978308 -0.956616 -0.973970 -0.965293   \n",
       "\n",
       "          0         0         0    ...            0         0         0  \\\n",
       "0 -0.978308 -0.956616 -0.973970    ...    -0.917570 -0.891540 -0.921909   \n",
       "1 -0.956616 -0.973970 -0.965293    ...    -0.891540 -0.921909 -0.908894   \n",
       "2 -0.973970 -0.965293 -0.991323    ...    -0.921909 -0.908894 -0.926247   \n",
       "3 -0.965293 -0.991323 -0.973970    ...    -0.908894 -0.926247 -0.926247   \n",
       "4 -0.991323 -0.973970 -0.926247    ...    -0.926247 -0.926247 -0.930586   \n",
       "\n",
       "          0         0         0         0         0         0         0  \n",
       "0 -0.908894 -0.926247 -0.926247 -0.930586 -0.930586 -0.934924 -0.900217  \n",
       "1 -0.926247 -0.926247 -0.930586 -0.930586 -0.934924 -0.900217 -0.930586  \n",
       "2 -0.926247 -0.930586 -0.930586 -0.934924 -0.900217 -0.930586 -0.926247  \n",
       "3 -0.930586 -0.930586 -0.934924 -0.900217 -0.930586 -0.926247 -0.947939  \n",
       "4 -0.930586 -0.934924 -0.900217 -0.930586 -0.926247 -0.947939 -0.926247  \n",
       "\n",
       "[5 rows x 51 columns]"
      ]
     },
     "execution_count": 82,
     "metadata": {},
     "output_type": "execute_result"
    }
   ],
   "source": [
    "series.head()"
   ]
  },
  {
   "cell_type": "code",
   "execution_count": 83,
   "metadata": {},
   "outputs": [
    {
     "data": {
      "text/plain": [
       "936"
      ]
     },
     "execution_count": 83,
     "metadata": {},
     "output_type": "execute_result"
    }
   ],
   "source": [
    "len(sj)"
   ]
  },
  {
   "cell_type": "code",
   "execution_count": 97,
   "metadata": {},
   "outputs": [],
   "source": [
    "# create train and test data\n",
    "\n",
    "# use 670 rows as train\n",
    "train = series.iloc[:670, :]\n",
    "test = series.iloc[670:,:]\n",
    "\n",
    "from sklearn.utils import shuffle\n",
    "train = shuffle(train)\n",
    "\n",
    "train_X = train.iloc[:,:-1]\n",
    "train_y = train.iloc[:,-1]\n",
    "test_X = test.iloc[:,:-1]\n",
    "test_y = test.iloc[:,-1]\n"
   ]
  },
  {
   "cell_type": "code",
   "execution_count": 98,
   "metadata": {},
   "outputs": [
    {
     "name": "stdout",
     "output_type": "stream",
     "text": [
      "(670, 50)\n",
      "(670,)\n",
      "(216, 50)\n",
      "(216,)\n"
     ]
    }
   ],
   "source": [
    "# convert df to array\n",
    "train_X = train_X.values\n",
    "train_y = train_y.values\n",
    "test_X = test_X.values\n",
    "test_y = test_y.values\n",
    "\n",
    "print(train_X.shape)\n",
    "print(train_y.shape)\n",
    "print(test_X.shape)\n",
    "print(test_y.shape)"
   ]
  },
  {
   "cell_type": "code",
   "execution_count": 99,
   "metadata": {},
   "outputs": [
    {
     "name": "stdout",
     "output_type": "stream",
     "text": [
      "(670, 50, 1) (216, 50, 1)\n"
     ]
    }
   ],
   "source": [
    "train_X = train_X.reshape(train_X.shape[0],train_X.shape[1],1)\n",
    "test_X = test_X.reshape(test_X.shape[0],test_X.shape[1],1)\n",
    "print(train_X.shape, test_X.shape)"
   ]
  },
  {
   "cell_type": "code",
   "execution_count": 100,
   "metadata": {},
   "outputs": [
    {
     "name": "stderr",
     "output_type": "stream",
     "text": [
      "/Users/asumisaito/anaconda3/lib/python3.6/site-packages/ipykernel_launcher.py:3: UserWarning: Update your `LSTM` call to the Keras 2 API: `LSTM(input_shape=(50, 1), return_sequences=True, units=50)`\n",
      "  This is separate from the ipykernel package so we can avoid doing imports until\n"
     ]
    },
    {
     "name": "stdout",
     "output_type": "stream",
     "text": [
      "_________________________________________________________________\n",
      "Layer (type)                 Output Shape              Param #   \n",
      "=================================================================\n",
      "lstm_3 (LSTM)                (None, 50, 50)            10400     \n",
      "_________________________________________________________________\n",
      "dropout_3 (Dropout)          (None, 50, 50)            0         \n",
      "_________________________________________________________________\n",
      "lstm_4 (LSTM)                (None, 256)               314368    \n",
      "_________________________________________________________________\n",
      "dropout_4 (Dropout)          (None, 256)               0         \n",
      "_________________________________________________________________\n",
      "dense_2 (Dense)              (None, 1)                 257       \n",
      "_________________________________________________________________\n",
      "activation_2 (Activation)    (None, 1)                 0         \n",
      "=================================================================\n",
      "Total params: 325,025\n",
      "Trainable params: 325,025\n",
      "Non-trainable params: 0\n",
      "_________________________________________________________________\n"
     ]
    }
   ],
   "source": [
    "# Define the LSTM model\n",
    "model = Sequential()\n",
    "model.add(LSTM(input_shape = (50,1), output_dim= 50, return_sequences = True))\n",
    "model.add(Dropout(0.5))\n",
    "model.add(LSTM(256))\n",
    "model.add(Dropout(0.5))\n",
    "model.add(Dense(1))\n",
    "model.add(Activation(\"linear\"))\n",
    "model.compile(loss=\"mse\", optimizer=\"adam\")\n",
    "model.summary()"
   ]
  },
  {
   "cell_type": "code",
   "execution_count": 103,
   "metadata": {},
   "outputs": [
    {
     "name": "stderr",
     "output_type": "stream",
     "text": [
      "/Users/asumisaito/anaconda3/lib/python3.6/site-packages/keras/models.py:942: UserWarning: The `nb_epoch` argument in `fit` has been renamed `epochs`.\n",
      "  warnings.warn('The `nb_epoch` argument in `fit` '\n"
     ]
    },
    {
     "name": "stdout",
     "output_type": "stream",
     "text": [
      "Train on 603 samples, validate on 67 samples\n",
      "Epoch 1/6\n",
      "603/603 [==============================] - 3s 4ms/step - loss: 0.0375 - val_loss: 0.0036\n",
      "Epoch 2/6\n",
      "603/603 [==============================] - 2s 4ms/step - loss: 0.0343 - val_loss: 0.0034\n",
      "Epoch 3/6\n",
      "603/603 [==============================] - 2s 4ms/step - loss: 0.0331 - val_loss: 0.0045\n",
      "Epoch 4/6\n",
      "603/603 [==============================] - 2s 4ms/step - loss: 0.0321 - val_loss: 0.0026\n",
      "Epoch 5/6\n",
      "603/603 [==============================] - 2s 4ms/step - loss: 0.0311 - val_loss: 0.0094\n",
      "Epoch 6/6\n",
      "603/603 [==============================] - 2s 4ms/step - loss: 0.0305 - val_loss: 0.0023\n",
      "> Compilation Time :  14.514081954956055\n"
     ]
    }
   ],
   "source": [
    "start = time.time()\n",
    "model.fit(train_X,train_y,batch_size=100,nb_epoch=6,validation_split=0.1)\n",
    "print(\"> Compilation Time : \", time.time() - start)"
   ]
  },
  {
   "cell_type": "code",
   "execution_count": 104,
   "metadata": {},
   "outputs": [
    {
     "data": {
      "image/png": "[encoded data removed]",
      "text/plain": [
       "<matplotlib.figure.Figure at 0x121df0fd0>"
      ]
     },
     "metadata": {},
     "output_type": "display_data"
    }
   ],
   "source": [
    "preds = model.predict(test_X)\n",
    "\n",
    "plt.plot(test_y)\n",
    "plt.plot(preds)\n",
    "plt.show()"
   ]
  },
  {
   "cell_type": "code",
   "execution_count": 105,
   "metadata": {},
   "outputs": [
    {
     "data": {
      "image/png": "[encoded data removed]",
      "text/plain": [
       "<matplotlib.figure.Figure at 0x127b954e0>"
      ]
     },
     "metadata": {},
     "output_type": "display_data"
    }
   ],
   "source": [
    "preds = model.predict(test_X)\n",
    "preds2 = scaler.inverse_transform(preds)\n",
    "actual = scaler.inverse_transform(test_y.reshape(-1, 1))\n",
    "plt.plot(actual)\n",
    "plt.plot(preds2)\n",
    "plt.show()"
   ]
  },
  {
   "cell_type": "code",
   "execution_count": null,
   "metadata": {},
   "outputs": [],
   "source": [
    "# of course it goes very good accuracy"
   ]
  },
  {
   "cell_type": "markdown",
   "metadata": {},
   "source": [
    "## Moving test window"
   ]
  },
  {
   "cell_type": "code",
   "execution_count": null,
   "metadata": {},
   "outputs": [],
   "source": []
  },
  {
   "cell_type": "code",
   "execution_count": null,
   "metadata": {},
   "outputs": [],
   "source": []
  },
  {
   "cell_type": "code",
   "execution_count": null,
   "metadata": {},
   "outputs": [],
   "source": []
  },
  {
   "cell_type": "code",
   "execution_count": null,
   "metadata": {},
   "outputs": [],
   "source": []
  },
  {
   "cell_type": "code",
   "execution_count": null,
   "metadata": {},
   "outputs": [],
   "source": []
  },
  {
   "cell_type": "code",
   "execution_count": null,
   "metadata": {},
   "outputs": [],
   "source": []
  },
  {
   "cell_type": "code",
   "execution_count": 66,
   "metadata": {},
   "outputs": [],
   "source": [
    "def moving_test_window_preds(n_future_preds):\n",
    "\n",
    "    ''' \n",
    "    n_future_preds - Represents the number of future predictions we want to make\n",
    "                         This coincides with the number of windows that we will move forward\n",
    "                         on the test data\n",
    "    '''\n",
    "    preds_moving = []                                    \n",
    "    # Use this to store the prediction made on each test window\n",
    "    \n",
    "    moving_test_window = [test_X[0,:].tolist()]          \n",
    "    # Creating the first test window\n",
    "    \n",
    "    moving_test_window = np.array(moving_test_window)    \n",
    "    # Making it an numpy array\n",
    "    \n",
    "    for i in range(n_future_preds):\n",
    "        preds_one_step = model.predict(moving_test_window) \n",
    "        # Note that this is already a scaled prediction so no need to rescale this\n",
    "        \n",
    "        preds_moving.append(preds_one_step[0,0]) \n",
    "        # get the value from the numpy 2D array and append to predictions\n",
    "        \n",
    "        preds_one_step = preds_one_step.reshape(1,1,1) \n",
    "        # Reshaping the prediction to 3D array for concatenation with moving test window\n",
    "        \n",
    "        moving_test_window = np.concatenate((moving_test_window[:,1:,:], preds_one_step), axis=1) \n",
    "        # This is the new moving test window, where the first element from the window has been removed and the prediction  has been appended to the end\n",
    "    \n",
    "    preds_moving = np.array(preds_moving)\n",
    "    preds_moving = scaler.inverse_transform(preds_moving.reshape(-1, 1))\n",
    "    \n",
    "    return preds_moving"
   ]
  },
  {
   "cell_type": "code",
   "execution_count": null,
   "metadata": {},
   "outputs": [],
   "source": []
  },
  {
   "cell_type": "code",
   "execution_count": null,
   "metadata": {},
   "outputs": [],
   "source": []
  },
  {
   "cell_type": "code",
   "execution_count": 87,
   "metadata": {},
   "outputs": [
    {
     "name": "stderr",
     "output_type": "stream",
     "text": [
      "/Users/asumisaito/anaconda3/lib/python3.6/site-packages/sklearn/utils/validation.py:475: DataConversionWarning: Data with input dtype int64 was converted to float64 by MinMaxScaler.\n",
      "  warnings.warn(msg, DataConversionWarning)\n"
     ]
    }
   ],
   "source": [
    "# normalize features - \n",
    "\n",
    "scaler = MinMaxScaler(feature_range=(-1, 1))\n",
    "scaled = scaler.fit_transform(sj.values)\n",
    "series = pd.DataFrame(scaled)\n"
   ]
  },
  {
   "cell_type": "code",
   "execution_count": 88,
   "metadata": {},
   "outputs": [],
   "source": [
    "# fix the moving window size to be 50\n",
    "\n",
    "window_size = 50\n",
    "\n",
    "series_s = series.copy()\n",
    "for i in range(window_size):\n",
    "    series = pd.concat([series, series_s.shift(-(i+1))], axis = 1)\n",
    "    \n",
    "series.dropna(axis=0, inplace=True)"
   ]
  },
  {
   "cell_type": "code",
   "execution_count": 89,
   "metadata": {},
   "outputs": [
    {
     "name": "stdout",
     "output_type": "stream",
     "text": [
      "(400, 50)\n",
      "(400,)\n",
      "(200, 50)\n",
      "(200,)\n",
      "(400, 50, 1) (200, 50, 1)\n"
     ]
    }
   ],
   "source": [
    "# create train and test data\n",
    "\n",
    "# use 400 rows as train, 200 as test, rest as validation\n",
    "train = series.iloc[:400, :]\n",
    "test = series.iloc[400:600,:]\n",
    "validation = series.iloc[600:, :]\n",
    "\n",
    "from sklearn.utils import shuffle\n",
    "train = shuffle(train)\n",
    "\n",
    "train_X = train.iloc[:,:-1]\n",
    "train_y = train.iloc[:,-1]\n",
    "test_X = test.iloc[:,:-1]\n",
    "test_y = test.iloc[:,-1]\n",
    "\n",
    "# convert df to array\n",
    "train_X = train_X.values\n",
    "train_y = train_y.values\n",
    "test_X = test_X.values\n",
    "test_y = test_y.values\n",
    "\n",
    "print(train_X.shape)\n",
    "print(train_y.shape)\n",
    "print(test_X.shape)\n",
    "print(test_y.shape)\n",
    "\n",
    "train_X = train_X.reshape(train_X.shape[0],train_X.shape[1],1)\n",
    "test_X = test_X.reshape(test_X.shape[0],test_X.shape[1],1)\n",
    "print(train_X.shape, test_X.shape)"
   ]
  },
  {
   "cell_type": "code",
   "execution_count": 90,
   "metadata": {},
   "outputs": [
    {
     "data": {
      "text/plain": [
       "286"
      ]
     },
     "execution_count": 90,
     "metadata": {},
     "output_type": "execute_result"
    }
   ],
   "source": [
    "len(validation)"
   ]
  },
  {
   "cell_type": "code",
   "execution_count": 106,
   "metadata": {},
   "outputs": [],
   "source": [
    "preds = moving_test_window_preds(216)"
   ]
  },
  {
   "cell_type": "code",
   "execution_count": 107,
   "metadata": {},
   "outputs": [
    {
     "data": {
      "image/png": "[encoded data removed]",
      "text/plain": [
       "<matplotlib.figure.Figure at 0x121df0e48>"
      ]
     },
     "metadata": {},
     "output_type": "display_data"
    }
   ],
   "source": [
    "plt.plot(preds)\n",
    "plt.show()"
   ]
  },
  {
   "cell_type": "code",
   "execution_count": null,
   "metadata": {},
   "outputs": [],
   "source": []
  },
  {
   "cell_type": "code",
   "execution_count": null,
   "metadata": {},
   "outputs": [],
   "source": []
  },
  {
   "cell_type": "code",
   "execution_count": null,
   "metadata": {},
   "outputs": [],
   "source": []
  },
  {
   "cell_type": "code",
   "execution_count": null,
   "metadata": {},
   "outputs": [],
   "source": []
  },
  {
   "cell_type": "code",
   "execution_count": null,
   "metadata": {},
   "outputs": [],
   "source": []
  }
 ],
 "metadata": {
  "kernelspec": {
   "display_name": "Python 3",
   "language": "python",
   "name": "python3"
  },
  "language_info": {
   "codemirror_mode": {
    "name": "ipython",
    "version": 3
   },
   "file_extension": ".py",
   "mimetype": "text/x-python",
   "name": "python",
   "nbconvert_exporter": "python",
   "pygments_lexer": "ipython3",
   "version": "3.6.3"
  }
 },
 "nbformat": 4,
 "nbformat_minor": 2
}
