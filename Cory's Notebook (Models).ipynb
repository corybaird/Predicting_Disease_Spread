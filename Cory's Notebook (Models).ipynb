{
 "cells": [
  {
   "cell_type": "code",
   "execution_count": 2,
   "metadata": {
    "scrolled": false
   },
   "outputs": [],
   "source": [
    "# Importing data\n",
    "\n",
    "import pandas as pd\n",
    "import numpy as np\n",
    "import matplotlib.pyplot as plt\n",
    "\n",
    "test = pd.read_csv(\"/Users/Cory/Desktop/Predicting_Disease_Spread/Data/dengue_features_test.csv\")\n",
    "train = pd.read_csv(\"/Users/Cory/Desktop/Predicting_Disease_Spread/Data/dengue_features_train.csv\")\n",
    "labels = pd.read_csv(\"/Users/Cory/Desktop/Predicting_Disease_Spread/Data/dengue_labels_train.csv\")\n",
    "\n",
    "df = pd.merge(train, labels, on = [\"city\", \"year\", \"weekofyear\"])\n"
   ]
  },
  {
   "cell_type": "markdown",
   "metadata": {},
   "source": [
    "# How do we deal with missing data? "
   ]
  },
  {
   "cell_type": "code",
   "execution_count": 3,
   "metadata": {
    "scrolled": true
   },
   "outputs": [
    {
     "name": "stdout",
     "output_type": "stream",
     "text": [
      "city                                      0.000000\n",
      "year                                      0.000000\n",
      "weekofyear                                0.000000\n",
      "week_start_date                           0.000000\n",
      "ndvi_ne                                  13.324176\n",
      "ndvi_nw                                   3.571429\n",
      "ndvi_se                                   1.510989\n",
      "ndvi_sw                                   1.510989\n",
      "precipitation_amt_mm                      0.892857\n",
      "reanalysis_air_temp_k                     0.686813\n",
      "reanalysis_avg_temp_k                     0.686813\n",
      "reanalysis_dew_point_temp_k               0.686813\n",
      "reanalysis_max_air_temp_k                 0.686813\n",
      "reanalysis_min_air_temp_k                 0.686813\n",
      "reanalysis_precip_amt_kg_per_m2           0.686813\n",
      "reanalysis_relative_humidity_percent      0.686813\n",
      "reanalysis_sat_precip_amt_mm              0.892857\n",
      "reanalysis_specific_humidity_g_per_kg     0.686813\n",
      "reanalysis_tdtr_k                         0.686813\n",
      "station_avg_temp_c                        2.953297\n",
      "station_diur_temp_rng_c                   2.953297\n",
      "station_max_temp_c                        1.373626\n",
      "station_min_temp_c                        0.961538\n",
      "station_precip_mm                         1.510989\n",
      "total_cases                               0.000000\n",
      "dtype: float64\n"
     ]
    }
   ],
   "source": [
    "#What percentage of rows are missing from each column?\n",
    "print(df.isnull().sum()/(len(df.city))*100)"
   ]
  },
  {
   "cell_type": "markdown",
   "metadata": {},
   "source": [
    "# We would lose almost 20% of data if we dropped all NA rows\n"
   ]
  },
  {
   "cell_type": "code",
   "execution_count": 4,
   "metadata": {
    "scrolled": true
   },
   "outputs": [
    {
     "data": {
      "text/plain": [
       "0.823489010989011"
      ]
     },
     "execution_count": 4,
     "metadata": {},
     "output_type": "execute_result"
    }
   ],
   "source": [
    "(len(df.dropna())/len(df))"
   ]
  },
  {
   "cell_type": "markdown",
   "metadata": {},
   "source": [
    "# Unequal distribution of cases for both cities"
   ]
  },
  {
   "cell_type": "code",
   "execution_count": 48,
   "metadata": {
    "scrolled": false
   },
   "outputs": [
    {
     "data": {
      "text/plain": [
       "sj    727\n",
       "iq    472\n",
       "Name: city, dtype: int64"
      ]
     },
     "execution_count": 48,
     "metadata": {},
     "output_type": "execute_result"
    }
   ],
   "source": [
    "df[\"city\"].value_counts()"
   ]
  },
  {
   "cell_type": "code",
   "execution_count": 67,
   "metadata": {},
   "outputs": [
    {
     "data": {
      "text/html": [
       "<div>\n",
       "<style scoped>\n",
       "    .dataframe tbody tr th:only-of-type {\n",
       "        vertical-align: middle;\n",
       "    }\n",
       "\n",
       "    .dataframe tbody tr th {\n",
       "        vertical-align: top;\n",
       "    }\n",
       "\n",
       "    .dataframe thead th {\n",
       "        text-align: right;\n",
       "    }\n",
       "</style>\n",
       "<table border=\"1\" class=\"dataframe\">\n",
       "  <thead>\n",
       "    <tr style=\"text-align: right;\">\n",
       "      <th></th>\n",
       "      <th>count</th>\n",
       "      <th>mean</th>\n",
       "      <th>std</th>\n",
       "      <th>min</th>\n",
       "      <th>25%</th>\n",
       "      <th>50%</th>\n",
       "      <th>75%</th>\n",
       "      <th>max</th>\n",
       "    </tr>\n",
       "    <tr>\n",
       "      <th>city</th>\n",
       "      <th></th>\n",
       "      <th></th>\n",
       "      <th></th>\n",
       "      <th></th>\n",
       "      <th></th>\n",
       "      <th></th>\n",
       "      <th></th>\n",
       "      <th></th>\n",
       "    </tr>\n",
       "  </thead>\n",
       "  <tbody>\n",
       "    <tr>\n",
       "      <th>iq</th>\n",
       "      <td>472.0</td>\n",
       "      <td>7.309322</td>\n",
       "      <td>9.521329</td>\n",
       "      <td>0.0</td>\n",
       "      <td>1.0</td>\n",
       "      <td>5.0</td>\n",
       "      <td>9.0</td>\n",
       "      <td>83.0</td>\n",
       "    </tr>\n",
       "    <tr>\n",
       "      <th>sj</th>\n",
       "      <td>727.0</td>\n",
       "      <td>30.214580</td>\n",
       "      <td>36.131809</td>\n",
       "      <td>0.0</td>\n",
       "      <td>9.0</td>\n",
       "      <td>18.0</td>\n",
       "      <td>36.0</td>\n",
       "      <td>329.0</td>\n",
       "    </tr>\n",
       "  </tbody>\n",
       "</table>\n",
       "</div>"
      ],
      "text/plain": [
       "      count       mean        std  min  25%   50%   75%    max\n",
       "city                                                          \n",
       "iq    472.0   7.309322   9.521329  0.0  1.0   5.0   9.0   83.0\n",
       "sj    727.0  30.214580  36.131809  0.0  9.0  18.0  36.0  329.0"
      ]
     },
     "execution_count": 67,
     "metadata": {},
     "output_type": "execute_result"
    }
   ],
   "source": [
    "df.groupby(\"city\")[\"total_cases\"].describe()"
   ]
  },
  {
   "cell_type": "code",
   "execution_count": 21,
   "metadata": {},
   "outputs": [],
   "source": [
    "sj = df[df['city'] == \"sj\"]\n",
    "iq = df[df[\"city\"] == \"iq\"]"
   ]
  },
  {
   "cell_type": "code",
   "execution_count": 51,
   "metadata": {
    "scrolled": true
   },
   "outputs": [
    {
     "data": {
      "text/plain": [
       "Text(0,0.5,'Density')"
      ]
     },
     "execution_count": 51,
     "metadata": {},
     "output_type": "execute_result"
    },
    {
     "data": {
      "image/png": "[encoded data removed]",
      "text/plain": [
       "<Figure size 432x288 with 1 Axes>"
      ]
     },
     "metadata": {},
     "output_type": "display_data"
    }
   ],
   "source": [
    "sns.distplot(sj[\"total_cases\"], hist = False, kde = True,\n",
    "                 kde_kws = {\"shade\":True,'linewidth': 3},\n",
    "                 label = \"San Jose\")\n",
    "    \n",
    "sns.distplot(iq['total_cases'], hist = False, kde = True,\n",
    "                 kde_kws = {\"shade\":True,'linewidth': 3},\n",
    "                 label = \"IQ\",)\n",
    "\n",
    "plt.legend(prop={'size': 16}, title = 'City')\n",
    "plt.title('Density Plot of Dengue Cases By City')\n",
    "plt.xlabel('Total Cases of Dengue By City')\n",
    "plt.ylabel('Density')"
   ]
  }
 ],
 "metadata": {
  "kernelspec": {
   "display_name": "Python 3",
   "language": "python",
   "name": "python3"
  },
  "language_info": {
   "codemirror_mode": {
    "name": "ipython",
    "version": 3
   },
   "file_extension": ".py",
   "mimetype": "text/x-python",
   "name": "python",
   "nbconvert_exporter": "python",
   "pygments_lexer": "ipython3",
   "version": "3.6.5"
  }
 },
 "nbformat": 4,
 "nbformat_minor": 2
}
